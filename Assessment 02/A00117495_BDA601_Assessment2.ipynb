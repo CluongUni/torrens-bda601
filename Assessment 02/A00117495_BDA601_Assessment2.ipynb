{
 "cells": [
  {
   "cell_type": "markdown",
   "metadata": {},
   "source": [
    "# 1. Dataset Construction"
   ]
  },
  {
   "cell_type": "code",
   "execution_count": null,
   "metadata": {},
   "outputs": [],
   "source": [
    "import pandas as pd\n",
    "# Load the data\n",
    "df = pd.read_csv('WA_Fn-UseC_-Telco-Customer-Churn.csv')\n",
    "\n",
    "#Remove the specified columns\n",
    "columns_to_remove = ['MonthlyCharges', 'OnlineSecurity', 'StreamingTV', 'InternetService', 'Partner']\n",
    "df = df.drop(columns=columns_to_remove)\n",
    "# Verify the shape of the dataset\n",
    "print(f\"Dataset shape: {df.shape}\")\n",
    "\n",
    "# Save the modified dataset\n",
    "df.to_csv('modified_Telco_Customer_Churn.csv', index=False)"
   ]
  },
  {
   "cell_type": "markdown",
   "metadata": {},
   "source": [
    "# 2. Model Development\n",
    "\n",
    "## 2.1 Problem Statement\n",
    "### Context \n",
    "Big Retail, an online retail company in Adelaide, Australia is encounter declining visitor numbers and low conversion rates. To address these challenges, the company is pivoting towards a data-driven strategy, starting with an analysis of customer churn. \n",
    "### The Problem \n",
    "Customer churn, or customer attrition, is a critical issue for the retail industry. High churn rates can significantly impact the revenue of a company,especially Big Retail. \n",
    "The company is experiencing a decline in visitors to its website and conversion rates are low, indication issues with customer retention. \n",
    "### Solution \n",
    "- Develop a predictive model to identify customers at high risk of churning \n",
    "- Uncover key factors contributing to customer churn\n",
    "- Provide actionable insights to improve customer retention strategies \n",
    "### Approach \n",
    "- Analyze historical customer data to identify patterns and predictors of churn\n",
    "- Develop and evaluate a machine learning model (decision tree) to predict customer churn\n",
    "- Interpret the model results to provide actionable business insights\n",
    "\n"
   ]
  },
  {
   "cell_type": "markdown",
   "metadata": {},
   "source": [
    "## 2.2 Exploratory Data Analysis"
   ]
  },
  {
   "cell_type": "code",
   "execution_count": null,
   "metadata": {},
   "outputs": [],
   "source": [
    "import pandas as pd\n",
    "import matplotlib.pyplot as plt\n",
    "import seaborn as sns\n",
    "\n",
    "# Load the data\n",
    "df = pd.read_csv('modified_Telco_Customer_Churn.csv')\n",
    "\n",
    "# Basic statistics\n",
    "print(df.describe())\n",
    "\n",
    "# Check for missing values\n",
    "print(df.isnull().sum())"
   ]
  },
  {
   "cell_type": "code",
   "execution_count": null,
   "metadata": {},
   "outputs": [],
   "source": [
    "# Separate numeric and categorical columns\n",
    "numeric_columns = df.select_dtypes(include=['int64', 'float64']).columns\n",
    "categorical_columns = df.select_dtypes(include=['object']).columns\n",
    "\n",
    "print(\"Numeric columns:\", numeric_columns)\n",
    "print(\"Categorical columns:\", categorical_columns)"
   ]
  },
  {
   "cell_type": "code",
   "execution_count": null,
   "metadata": {},
   "outputs": [],
   "source": [
    "# Correlation heatmap\n",
    "plt.figure(figsize=(12, 10))\n",
    "sns.heatmap(df[numeric_columns].corr(), annot=True, cmap='coolwarm')\n",
    "plt.title('Correlation Heatmap of Numeric Features')\n",
    "plt.show()"
   ]
  },
  {
   "cell_type": "code",
   "execution_count": null,
   "metadata": {},
   "outputs": [],
   "source": [
    "# Distribution of categorical variables\n",
    "fig, axs = plt.subplots(len(categorical_columns), 1, figsize=(15, 5*len(categorical_columns)))\n",
    "for i, col in enumerate(categorical_columns):\n",
    "    sns.countplot(x=col, data=df, ax=axs[i] if len(categorical_columns) > 1 else axs)\n",
    "    axs[i].set_title(f'Distribution of {col}') if len(categorical_columns) > 1 else axs.set_title(f'Distribution of {col}')\n",
    "    axs[i].set_xticklabels(axs[i].get_xticklabels(), rotation=45) if len(categorical_columns) > 1 else axs.set_xticklabels(axs.get_xticklabels(), rotation=45)\n",
    "plt.tight_layout()\n",
    "plt.show()"
   ]
  },
  {
   "cell_type": "code",
   "execution_count": null,
   "metadata": {},
   "outputs": [],
   "source": [
    "# Distribution of numeric variables\n",
    "fig, axs = plt.subplots(len(numeric_columns), 1, figsize=(15, 5*len(numeric_columns)))\n",
    "for i, col in enumerate(numeric_columns):\n",
    "    sns.histplot(df[col], kde=True, ax=axs[i] if len(numeric_columns) > 1 else axs)\n",
    "    axs[i].set_title(f'Distribution of {col}') if len(numeric_columns) > 1 else axs.set_title(f'Distribution of {col}')\n",
    "plt.tight_layout()\n",
    "plt.show()"
   ]
  },
  {
   "cell_type": "code",
   "execution_count": null,
   "metadata": {},
   "outputs": [],
   "source": [
    "# Churn rate analysis\n",
    "churn_rate = df['Churn'].value_counts(normalize=True)\n",
    "plt.figure(figsize=(8, 6))\n",
    "churn_rate.plot(kind='bar')\n",
    "plt.title('Churn Rate')\n",
    "plt.ylabel('Percentage')\n",
    "plt.show()"
   ]
  },
  {
   "cell_type": "code",
   "execution_count": null,
   "metadata": {},
   "outputs": [],
   "source": [
    "# Analyze churn by tenure\n",
    "plt.figure(figsize=(10, 6))\n",
    "sns.boxplot(x='Churn', y='tenure', data=df)\n",
    "plt.title('Customer Churn by Tenure')\n",
    "plt.show()"
   ]
  },
  {
   "cell_type": "markdown",
   "metadata": {},
   "source": [
    "## 2.3 Data Cleaning & Feature Selection\n"
   ]
  },
  {
   "cell_type": "code",
   "execution_count": 11,
   "metadata": {},
   "outputs": [],
   "source": [
    "from sklearn.preprocessing import LabelEncoder, StandardScaler\n",
    "from sklearn.impute import SimpleImputer\n",
    "\n",
    "# Handle missing values\n",
    "df = df.dropna()\n",
    "\n",
    "# Encode categorical variables\n",
    "le = LabelEncoder()\n",
    "categorical_columns = df.select_dtypes(include=['object']).columns\n",
    "for col in categorical_columns:\n",
    "    df[col] = le.fit_transform(df[col])\n",
    "\n",
    "# Scale numerical features\n",
    "scaler = StandardScaler()\n",
    "numerical_columns = df.select_dtypes(include=['int64', 'float64']).columns\n",
    "df[numerical_columns] = scaler.fit_transform(df[numerical_columns])\n",
    "\n",
    "# Separate features and target\n",
    "X = df.drop('Churn', axis=1)\n",
    "y = df['Churn']\n",
    "\n",
    "# Split the data\n",
    "from sklearn.model_selection import train_test_split\n",
    "X_train, X_test, y_train, y_test = train_test_split(X, y, test_size=0.2, random_state=42)"
   ]
  },
  {
   "cell_type": "markdown",
   "metadata": {},
   "source": [
    "## 2.4 Model Building "
   ]
  },
  {
   "cell_type": "code",
   "execution_count": null,
   "metadata": {},
   "outputs": [],
   "source": [
    "# Handle missing values\n",
    "df['TotalCharges'] = pd.to_numeric(df['TotalCharges'], errors='coerce')\n",
    "imputer = SimpleImputer(strategy='mean')\n",
    "df['TotalCharges'] = imputer.fit_transform(df[['TotalCharges']])\n",
    "\n",
    "# Encode categorical variables\n",
    "le = LabelEncoder()\n",
    "categorical_cols = df.select_dtypes(include=['object']).columns\n",
    "\n",
    "for col in categorical_cols:\n",
    "    df[col] = le.fit_transform(df[col])\n",
    "\n",
    "# Feature scaling\n",
    "scaler = StandardScaler()\n",
    "numeric_cols = df.select_dtypes(include=[np.number]).columns\n",
    "df[numeric_cols] = scaler.fit_transform(df[numeric_cols])\n",
    "\n",
    "# Check the data type and unique values of the target variable\n",
    "print(\"Data type of target variable:\", df['Churn'].dtype)\n",
    "print(\"Unique values in target variable:\", df['Churn'].unique())\n",
    "\n",
    "# If 'Churn' is not already encoded, use LabelEncoder\n",
    "le = LabelEncoder()\n",
    "df['Churn'] = le.fit_transform(df['Churn'])\n",
    "\n",
    "\n",
    "# Separate features and target\n",
    "X = df.drop(['customerID', 'Churn'], axis=1)\n",
    "y = df['Churn']\n",
    "\n",
    "# Split the data\n",
    "X_train, X_test, y_train, y_test = train_test_split(X, y, test_size=0.2, random_state=42)"
   ]
  },
  {
   "cell_type": "code",
   "execution_count": null,
   "metadata": {},
   "outputs": [],
   "source": [
    "# Decision Tree\n",
    "dt_model = DecisionTreeClassifier(random_state=42)\n",
    "dt_params = {'max_depth': [3, 5, 7, 9], 'min_samples_split': [2, 5, 10]}\n",
    "dt_grid = GridSearchCV(dt_model, dt_params, cv=5, scoring='accuracy')\n",
    "dt_grid.fit(X_train, y_train)\n",
    "\n",
    "print(\"Best Decision Tree Parameters:\", dt_grid.best_params_)\n",
    "dt_best = dt_grid.best_estimator_\n",
    "\n",
    "# Random Forest\n",
    "rf_model = RandomForestClassifier(random_state=42)\n",
    "rf_params = {'n_estimators': [100, 200], 'max_depth': [3, 5, 7], 'min_samples_split': [2, 5, 10]}\n",
    "rf_grid = GridSearchCV(rf_model, rf_params, cv=5, scoring='accuracy')\n",
    "rf_grid.fit(X_train, y_train)\n",
    "\n",
    "print(\"Best Random Forest Parameters:\", rf_grid.best_params_)\n",
    "rf_best = rf_grid.best_estimator_\n",
    "\n",
    "# Evaluate models\n",
    "models = [('Decision Tree', dt_best), ('Random Forest', rf_best)]\n",
    "\n",
    "for name, model in models:\n",
    "    y_pred = model.predict(X_test)\n",
    "    print(f\"\\n{name} Results:\")\n",
    "    print(\"Accuracy:\", accuracy_score(y_test, y_pred))\n",
    "    print(\"AUC-ROC:\", roc_auc_score(y_test, model.predict_proba(X_test)[:,1]))\n",
    "    print(\"\\nConfusion Matrix:\")\n",
    "    print(confusion_matrix(y_test, y_pred))\n",
    "    print(\"\\nClassification Report:\")\n",
    "    print(classification_report(y_test, y_pred))"
   ]
  },
  {
   "cell_type": "markdown",
   "metadata": {},
   "source": [
    "## 2.5 Feature Importance and Model Interpretation"
   ]
  },
  {
   "cell_type": "code",
   "execution_count": null,
   "metadata": {},
   "outputs": [],
   "source": [
    "# Decision Tree feature importance\n",
    "plt.figure(figsize=(12, 8))\n",
    "feature_importance = pd.DataFrame({'feature': X.columns, 'importance': dt_best.feature_importances_})\n",
    "feature_importance = feature_importance.sort_values('importance', ascending=False)\n",
    "sns.barplot(x='importance', y='feature', data=feature_importance)\n",
    "plt.title('Feature Importance (Decision Tree)')\n",
    "plt.show()\n",
    "\n",
    "# Random Forest feature importance\n",
    "plt.figure(figsize=(12, 8))\n",
    "feature_importance_rf = pd.DataFrame({'feature': X.columns, 'importance': rf_best.feature_importances_})\n",
    "feature_importance_rf = feature_importance_rf.sort_values('importance', ascending=False)\n",
    "sns.barplot(x='importance', y='feature', data=feature_importance_rf)\n",
    "plt.title('Feature Importance (Random Forest)')\n",
    "plt.show()\n",
    "\n"
   ]
  },
  {
   "cell_type": "markdown",
   "metadata": {},
   "source": [
    "## 2.6 Business Insights"
   ]
  },
  {
   "cell_type": "code",
   "execution_count": null,
   "metadata": {},
   "outputs": [],
   "source": [
    "# Identify top churning customer segments\n",
    "top_churn_features = feature_importance_rf.head(5)['feature'].tolist()\n",
    "churn_segments = df.groupby(top_churn_features)['Churn'].mean().sort_values(ascending=False).head(10)\n",
    "\n",
    "print(\"Top Churning Customer Segments:\")\n",
    "print(churn_segments)\n",
    "\n",
    "# Calculate potential revenue saved by reducing churn\n",
    "avg_customer_value = df['TotalCharges'].mean()\n",
    "current_churn_rate = df['Churn'].mean()\n",
    "potential_churn_reduction = 0.1  # Assume we can reduce churn by 10%\n",
    "\n",
    "potential_savings = avg_customer_value * len(df) * current_churn_rate * potential_churn_reduction\n",
    "print(f\"\\nPotential Annual Revenue Saved: ${potential_savings:.2f}\")\n"
   ]
  }
 ],
 "metadata": {
  "kernelspec": {
   "display_name": "base",
   "language": "python",
   "name": "python3"
  },
  "language_info": {
   "codemirror_mode": {
    "name": "ipython",
    "version": 3
   },
   "file_extension": ".py",
   "mimetype": "text/x-python",
   "name": "python",
   "nbconvert_exporter": "python",
   "pygments_lexer": "ipython3",
   "version": "3.11.7"
  }
 },
 "nbformat": 4,
 "nbformat_minor": 2
}
