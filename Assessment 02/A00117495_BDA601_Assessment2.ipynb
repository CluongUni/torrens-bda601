{
 "cells": [
  {
   "cell_type": "markdown",
   "metadata": {},
   "source": [
    "# 1. Dataset Construction"
   ]
  },
  {
   "cell_type": "code",
   "execution_count": 1,
   "metadata": {},
   "outputs": [
    {
     "name": "stdout",
     "output_type": "stream",
     "text": [
      "Dataset shape: (7043, 16)\n"
     ]
    }
   ],
   "source": [
    "import pandas as pd\n",
    "# Load the data\n",
    "df = pd.read_csv('WA_Fn-UseC_-Telco-Customer-Churn.csv')\n",
    "\n",
    "#Remove the specified columns\n",
    "columns_to_remove = ['MonthlyCharges', 'OnlineSecurity', 'StreamingTV', 'InternetService', 'Partner']\n",
    "df = df.drop(columns=columns_to_remove)\n",
    "# Verify the shape of the dataset\n",
    "print(f\"Dataset shape: {df.shape}\")\n",
    "\n",
    "# Save the modified dataset\n",
    "df.to_csv('modified_Telco_Customer_Churn.csv', index=False)"
   ]
  },
  {
   "cell_type": "markdown",
   "metadata": {},
   "source": [
    "# 2 Model Development\n",
    "\n",
    "## 2.1 Problem Statement\n",
    "### Context \n",
    "Big Retail, an online retail company in Adelaide, Australia is encounter declining visitor numbers and low conversion rates. To address these challenges, the company is pivoting towards a data-driven strategy, starting with an analysis of customer churn. \n",
    "### The Problem \n",
    "Customer churn, or customer attrition, is a critical issue for the retail industry. High churn rates can significantly impact the revenue of a company,especially Big Retail. \n",
    "The company is experiencing a decline in visitors to its website and conversion rates are low, indication issues with customer retention. \n",
    "### Solution \n",
    "- Develop a predictive model to identify customers at high risk of churning \n",
    "- Uncover key factors contributing to customer churn\n",
    "- Provide actionable insights to improve customer retention strategies \n",
    "### Approach \n",
    "- Analyze historical customer data to identify patterns and predictors of churn\n",
    "\n"
   ]
  }
 ],
 "metadata": {
  "kernelspec": {
   "display_name": "base",
   "language": "python",
   "name": "python3"
  },
  "language_info": {
   "codemirror_mode": {
    "name": "ipython",
    "version": 3
   },
   "file_extension": ".py",
   "mimetype": "text/x-python",
   "name": "python",
   "nbconvert_exporter": "python",
   "pygments_lexer": "ipython3",
   "version": "3.11.7"
  }
 },
 "nbformat": 4,
 "nbformat_minor": 2
}
