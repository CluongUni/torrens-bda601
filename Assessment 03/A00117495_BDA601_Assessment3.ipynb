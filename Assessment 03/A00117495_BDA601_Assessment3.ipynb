{
 "cells": [
  {
   "cell_type": "markdown",
   "metadata": {},
   "source": [
    "# 1.Predictive Modelling "
   ]
  },
  {
   "cell_type": "markdown",
   "metadata": {},
   "source": [
    "### Load & Prepare the Data"
   ]
  },
  {
   "cell_type": "code",
   "execution_count": null,
   "metadata": {},
   "outputs": [],
   "source": [
    "import pandas as pd\n",
    "from sklearn.linear_model import LinearRegression\n",
    "from sklearn.metrics import r2_score\n",
    "import matplotlib.pyplot as plt\n",
    "\n",
    "try:\n",
    "    # Load data\n",
    "    df = pd.read_csv('BDA601_Assessment 3_time_series_covid19_confirmed_global.csv')\n",
    "    # Validate required columns\n",
    "    required_columns = ['Province/State', 'Country/Region', 'Lat', 'Long']\n",
    "    if not all(col in df.columns for col in required_columns):\n",
    "        raise ValueError(\"Missing required columns in the dataset\")\n",
    "\n",
    "    # Melt the dataframe to convert dates from columns to rows\n",
    "    id_vars = ['Province/State', 'Country/Region', 'Lat', 'Long']\n",
    "    df_melted = df.melt(id_vars=id_vars, var_name='Date', value_name='Confirmed Cases')  \n",
    "    df_melted['Date'] = pd.to_datetime(df_melted['Date'])\n",
    "\n",
    "    # Group by country and date to aggregate counts at the country level\n",
    "    df_grouped = df_melted.groupby(['Country/Region', 'Date'])['Confirmed Cases'].sum().reset_index()\n",
    "\n",
    "    # Assign week numbers\n",
    "    start_date = df_grouped['Date'].min()\n",
    "    df_grouped['Week'] = ((df_grouped['Date'] - start_date).dt.days // 7) + 1\n",
    "\n",
    "    # Calculate new cases (daily infections)\n",
    "    df_grouped['New Cases'] = df_grouped.groupby('Country/Region')['Confirmed Cases'].diff().fillna(0)\n",
    "    # Load population data\n",
    "    population_df = pd.read_csv('population.csv')\n",
    "    # Create a dictionary of populations for faster lookups\n",
    "    population_dict = dict(zip(population_df['Country'], population_df['Population']))\n",
    "    #print(population_dict)\n",
    "    # Add population data to the dataframe\n",
    "    df_grouped['Population'] = df_grouped['Country/Region'].map(population_dict)\n",
    "    # Add population data to the dataframe\n",
    "    df_grouped['Population'] = df_grouped['Country/Region'].map(population_dict)\n",
    "\n",
    "    # Handle missing population data\n",
    "    missing_countries = df_grouped[df_grouped['Population'].isna()]['Country/Region'].unique()\n",
    "    if len(missing_countries) > 0:\n",
    "        print(f\"Countries missing population data: {missing_countries}\")\n",
    "    # Calculate infection rate using the epidemiological formula\n",
    "    # Rate of infection = K × (number of infections / number of those at risk)\n",
    "    K = 100000  # Standard multiplier for population-level rates\n",
    "    df_grouped['Infection Rate'] = K * (df_grouped['New Cases'] / df_grouped['Population'])\n",
    "\n",
    "    # For countries without population data, set infection rate to NaN\n",
    "    df_grouped.loc[df_grouped['Population'].isna(), 'Infection Rate'] = float('nan')\n",
    "    print(df_grouped)\n",
    "\n",
    "except Exception as e:\n",
    "    print(f\"Error loading data: {str(e)}\")\n",
    "    raise"
   ]
  },
  {
   "cell_type": "markdown",
   "metadata": {},
   "source": [
    "### Select top 3 countries"
   ]
  },
  {
   "cell_type": "markdown",
   "metadata": {},
   "source": [
    "Identify the top 3 countries with the highest infection rates based on the latest date."
   ]
  },
  {
   "cell_type": "code",
   "execution_count": null,
   "metadata": {},
   "outputs": [],
   "source": [
    "# Get the latest date in the dataset\n",
    "latest_date = df_grouped['Date'].max()\n",
    "print(f\"Latest Date : {latest_date.strftime('%d-%m-%Y')}\")\n",
    "# Get top 3 countries with the highest infection counts on the latest date\n",
    "top_countries = df_grouped[df_grouped['Date'] == latest_date].nlargest(3, 'Confirmed Cases')['Country/Region'].tolist()\n",
    "print(f\"Top 3 countries: {top_countries}\")\n"
   ]
  },
  {
   "cell_type": "markdown",
   "metadata": {},
   "source": [
    "### Fit Linear Regression Models"
   ]
  },
  {
   "cell_type": "markdown",
   "metadata": {},
   "source": [
    "For each of the top 3 countries, fit a linear regression model with Week as the independent variable and Confirmed Cases as the dependent variable."
   ]
  },
  {
   "cell_type": "code",
   "execution_count": null,
   "metadata": {},
   "outputs": [],
   "source": [
    "import numpy as np\n",
    "from sklearn.metrics import mean_absolute_error, mean_squared_error\n",
    "from sklearn.model_selection import train_test_split, cross_val_score\n",
    "\n",
    "# Function to fit linear regression and calculate variance (R²)\n",
    "def fit_linear_regression(country, data):\n",
    "    \n",
    "    # Filter data for the given country\n",
    "    country_data = data[data['Country/Region'] == country]\n",
    "    \n",
    "    # Prepare features (Week) and target (Confirmed Cases)\n",
    "    X = country_data['Week'].values.reshape(-1, 1)\n",
    "    y = country_data['Confirmed Cases'].values\n",
    "\n",
    "    # Perform cross-validation\n",
    "    model = LinearRegression()\n",
    "    cv_scores = cross_val_score(model, X, y, cv=5)\n",
    "    \n",
    "    # Fit linear regression model\n",
    "    model.fit(X, y)\n",
    "    \n",
    "    # Predict and calculate metrics : variance explained (R²), MSE, MAE \n",
    "    y_pred = model.predict(X)\n",
    "    r2 = r2_score(y, y_pred)\n",
    "    mse = mean_squared_error(y,y_pred)\n",
    "    mae = mean_absolute_error(y,y_pred)\n",
    "\n",
    "    # Calculate prediction intervals\n",
    "    # 1.96 is the value from the standard normal distribution (Z-distribution) \n",
    "    # corresponding to a 95% confidence level\n",
    "    std_error = np.sqrt(mse)\n",
    "    conf_interval = 1.96*std_error \n",
    "\n",
    "    metrics = {\n",
    "        'r2':r2,\n",
    "        'mse':mse,\n",
    "        'mae':mae,\n",
    "        'cv_score_mean':cv_scores.mean(),\n",
    "        'conf_interval':conf_interval\n",
    "    }\n",
    "    \n",
    "    return model, metrics, country_data\n",
    "\n",
    "# Fit models for the top 3 countries\n",
    "models = {}\n",
    "for country in top_countries:\n",
    "    model, metrics, country_data = fit_linear_regression(country, df_grouped)\n",
    "    models[country] = {\n",
    "        'model': model,\n",
    "        'metrics': metrics,\n",
    "        'data': country_data\n",
    "    }\n",
    "    print(f\"{country}:\")\n",
    "    print(f\"R² = {metrics['r2']:.4f}\")\n",
    "    print(f\"Cross-validation score = {metrics['cv_score_mean']:.4f}\")\n",
    "    print(f\"Mean Absolute Error = {metrics['mae']:.4f}\\n\")\n"
   ]
  },
  {
   "cell_type": "markdown",
   "metadata": {},
   "source": [
    "### Select the Country with the Highest Variance"
   ]
  },
  {
   "cell_type": "code",
   "execution_count": null,
   "metadata": {},
   "outputs": [],
   "source": [
    "# Find the country with the highest R²\n",
    "selected_country = max(models, key=lambda x: models[x]['metrics']['r2'])\n",
    "selected_metrics = models[selected_country]['metrics']\n",
    "\n",
    "print(f\"Selected Country: {selected_country}\")\n",
    "print(f\"Highest R² = {selected_metrics['r2']:.4f}\")\n",
    "print(f\"Cross-validation score = {selected_metrics['cv_score_mean']:.4f}\")\n"
   ]
  },
  {
   "cell_type": "markdown",
   "metadata": {},
   "source": [
    "### Analyze the selected Model"
   ]
  },
  {
   "cell_type": "code",
   "execution_count": null,
   "metadata": {},
   "outputs": [],
   "source": [
    "def analyze_selected_country(selected_country,selected_model,selected_data):\n",
    "    \n",
    "    # Visualize the linear regression for the selected country\n",
    "    plt.figure(figsize=(12, 6))\n",
    "    plt.scatter(selected_data['Week'], selected_data['Confirmed Cases'], label='Actual Data')\n",
    "    plt.plot(selected_data['Week'], selected_model.predict(selected_data['Week'].values.reshape(-1, 1)), \n",
    "         color='red', label='Linear Regression Fit')\n",
    "\n",
    "    y_pred = selected_model.predict(selected_data['Week'].values.reshape(-1, 1))\n",
    "    plt.fill_between(selected_data['Week'],\n",
    "                 y_pred - selected_metrics['conf_interval'],\n",
    "                 y_pred + selected_metrics['conf_interval'],\n",
    "                 alpha=0.2, color='red', label='95% Confidence Interval')\n",
    "\n",
    "    plt.title(f'Linear Regression for {selected_country}')\n",
    "    plt.xlabel('Week Number')\n",
    "    plt.ylabel('Confirmed Cases')\n",
    "    plt.legend()\n",
    "    plt.grid(True)\n",
    "    plt.show()\n",
    "\n",
    "    # Print model coefficients\n",
    "    print(f\"Intercept: {selected_model.intercept_}\")\n",
    "    print(f\"Coefficient: {selected_model.coef_[0]}\")\n",
    "\n",
    "selected_model = models[selected_country]['model']\n",
    "selected_data = models[selected_country]['data']\n",
    "analyze_selected_country(selected_country, selected_model, selected_data)\n"
   ]
  },
  {
   "cell_type": "markdown",
   "metadata": {},
   "source": [
    "## 2. Clustering"
   ]
  },
  {
   "cell_type": "markdown",
   "metadata": {},
   "source": [
    "### Prepare Data for Clustering"
   ]
  },
  {
   "cell_type": "code",
   "execution_count": null,
   "metadata": {},
   "outputs": [],
   "source": [
    "from sklearn.preprocessing import RobustScaler, StandardScaler\n",
    "\n",
    "# Prepare data for the selected country\n",
    "clustering_data = selected_data.copy()\n",
    "clustering_data = clustering_data.dropna(subset=['Infection Rate', 'Confirmed Cases'])\n",
    "\n",
    "# Standardize features\n",
    "scaler = RobustScaler()\n",
    "clustering_data[['Infection Rate', 'Confirmed Cases']] = scaler.fit_transform(clustering_data[['Infection Rate', 'Confirmed Cases']])\n",
    "\n"
   ]
  },
  {
   "cell_type": "markdown",
   "metadata": {},
   "source": [
    "### Determine Optimal K\n",
    "Use the Elbow Method to determine the optimal number of clusters (K) by iterating over a range of K values and plotting the inertia (within-cluster sum of squares)."
   ]
  },
  {
   "cell_type": "code",
   "execution_count": null,
   "metadata": {},
   "outputs": [],
   "source": [
    "from sklearn.cluster import KMeans\n",
    "from sklearn.metrics import silhouette_score\n",
    "import matplotlib.pyplot as plt\n",
    "\n",
    "# Drop rows with NaN values\n",
    "clustering_data = clustering_data.dropna(subset=['Infection Rate', 'Confirmed Cases'])\n",
    "\n",
    "if len(clustering_data) < 2:\n",
    "    raise ValueError(f\"Insufficient data points for clustering after removing invalid values: {len(clustering_data)} rows\")\n",
    "            \n",
    "# Print data statistics before scaling\n",
    "print(\"\\nData statistics before scaling:\")\n",
    "print(clustering_data[['Infection Rate', 'Confirmed Cases']].describe())\n",
    "\n",
    "\n",
    "# Elbow Method to find the optimal K\n",
    "inertia = []\n",
    "silhouette_scores = []\n",
    "K_range = range(2, 11)\n",
    "\n",
    "for k in K_range:\n",
    "    kmeans = KMeans(n_clusters=k, random_state=42)\n",
    "    labels = kmeans.fit_predict(clustering_data[['Infection Rate', 'Confirmed Cases']])\n",
    "    inertia.append(kmeans.inertia_)\n",
    "    silhouette_scores.append(silhouette_score(clustering_data[['Infection Rate', 'Confirmed Cases']], labels))\n",
    "    \n",
    "\n",
    "# Plot both metrics\n",
    "fig, (ax1, ax2) = plt.subplots(1, 2, figsize=(15, 5))\n",
    "\n",
    "ax1.plot(K_range, inertia, marker='o')\n",
    "ax1.set_title('Elbow Method')\n",
    "ax1.set_xlabel('Number of Clusters (K)')\n",
    "ax1.set_ylabel('Inertia')\n",
    "ax1.grid(True, alpha=0.3)\n",
    "\n",
    "ax2.plot(K_range, silhouette_scores, marker='o')\n",
    "ax2.set_title('Silhouette Score')\n",
    "ax2.set_xlabel('Number of Clusters (K)')\n",
    "ax2.set_ylabel('Silhouette Score')\n",
    "ax2.grid(True, alpha=0.3)\n",
    "\n",
    "plt.tight_layout()\n",
    "plt.show()\n"
   ]
  },
  {
   "cell_type": "markdown",
   "metadata": {},
   "source": [
    "### Perform K-Means Clustering\n",
    "Once the optimal K is determined, fit the K-Means model and assign clusters to the dataset."
   ]
  },
  {
   "cell_type": "code",
   "execution_count": null,
   "metadata": {},
   "outputs": [],
   "source": [
    "# Choose optimal K based on silhouette score\n",
    "optimal_k = K_range[np.argmax(silhouette_scores)]\n",
    "print(f\"Optimal number of clusters: {optimal_k}\")\n",
    "\n",
    "# Fit K-Means clustering\n",
    "kmeans = KMeans(n_clusters=optimal_k, random_state=42)\n",
    "clustering_data['Cluster'] = kmeans.fit_predict(clustering_data[['Infection Rate', 'Confirmed Cases']])\n",
    "\n",
    "# Add cluster centers for visualization\n",
    "cluster_centers = scaler.inverse_transform(kmeans.cluster_centers_)\n"
   ]
  },
  {
   "cell_type": "markdown",
   "metadata": {},
   "source": [
    "### Visualize Clusters\n",
    "Plot the clusters to observe trends in infection rates over time."
   ]
  },
  {
   "cell_type": "code",
   "execution_count": null,
   "metadata": {},
   "outputs": [],
   "source": [
    "# Plot the clusters\n",
    "plt.figure(figsize=(12, 6))\n",
    "colors = plt.cm.viridis(np.linspace(0, 1, optimal_k))\n",
    "\n",
    "for cluster, color in enumerate(colors):\n",
    "    cluster_points = clustering_data[clustering_data['Cluster'] == cluster]\n",
    "    plt.scatter(cluster_points['Infection Rate'], cluster_points['Confirmed Cases'], \n",
    "                color=color, label=f'Cluster {cluster}', alpha=0.7)\n",
    "\n",
    "# Plot cluster centers\n",
    "cluster_centers_original = scaler.inverse_transform(kmeans.cluster_centers_)\n",
    "plt.scatter(cluster_centers_original[:, 0], cluster_centers_original[:, 1], \n",
    "            color='red', marker='x', s=200, label='Cluster Centers')\n",
    "\n",
    "plt.title(f'K-Means Clustering for {selected_country}')\n",
    "plt.xlabel('Infection Rate (Original Scale)')\n",
    "plt.ylabel('Confirmed Cases (Original Scale)')\n",
    "plt.legend()\n",
    "plt.grid(True, alpha=0.3)\n",
    "plt.show()\n"
   ]
  },
  {
   "cell_type": "code",
   "execution_count": null,
   "metadata": {},
   "outputs": [],
   "source": [
    "cluster_counts = clustering_data['Cluster'].value_counts()\n",
    "print(f\"Cluster Counts:\\n{cluster_counts}\\n\")\n",
    "\n",
    "for cluster in sorted(clustering_data['Cluster'].unique()):\n",
    "    subset = clustering_data[clustering_data['Cluster'] == cluster]\n",
    "    print(f\"Cluster {cluster} Summary:\")\n",
    "    print(subset.describe())\n",
    "    print(\"\\n\")"
   ]
  },
  {
   "cell_type": "markdown",
   "metadata": {},
   "source": [
    "## 3. Analytics Data of neighboring countries\n",
    "\n",
    "- Identify neighboring countries\n",
    "- Group the data by country and week to calculate weekly infection counts."
   ]
  },
  {
   "cell_type": "code",
   "execution_count": null,
   "metadata": {},
   "outputs": [],
   "source": [
    "neighboring_countries=['Mexico', 'Canada']\n",
    "print(neighboring_countries)"
   ]
  },
  {
   "cell_type": "code",
   "execution_count": null,
   "metadata": {},
   "outputs": [],
   "source": [
    "\n",
    "import matplotlib.pyplot as plt\n",
    "\n",
    "plt.figure(figsize=(10, 6))\n",
    "for country in [selected_country]+neighboring_countries:\n",
    "    country_data = df_grouped[df_grouped['Country/Region'] == country]\n",
    "    model, metrics, country_data = fit_linear_regression(country, df_grouped)\n",
    "\n",
    "    plt.scatter(country_data['Week'], country_data['Confirmed Cases'], label=f\"{country} Data\", alpha=0.7)\n",
    "    plt.plot(country_data['Week'], model.predict(country_data['Week'].values.reshape(-1, 1)), \n",
    "             label=f\"{country} Trend (R²={metrics['r2']:.2f})\")\n",
    "\n",
    "plt.title('Linear Regression Analysis of COVID-19 Infection Rates')\n",
    "plt.xlabel('Week Number')\n",
    "plt.ylabel('Confirmed Cases')\n",
    "plt.legend()\n",
    "plt.grid()\n",
    "plt.show()"
   ]
  },
  {
   "cell_type": "markdown",
   "metadata": {},
   "source": [
    "Compare weekly infection trends of the selected country and its neighbors to identify patterns or correlations."
   ]
  },
  {
   "cell_type": "code",
   "execution_count": null,
   "metadata": {},
   "outputs": [],
   "source": [
    "# Extract weekly infection data for the selected country\n",
    "selected_country_data = df_grouped[df_grouped['Country/Region'] == selected_country]\n",
    "\n",
    "# Extract weekly infection data for neighboring countries\n",
    "neighbors_weekly_data = df_grouped[df_grouped['Country/Region'].isin(neighboring_countries)]\n",
    "\n",
    "# Merge weekly infection data for all countries\n",
    "merged_data = pd.concat([selected_country_data, neighbors_weekly_data])\n",
    "\n",
    "# Plot weekly infection trends\n",
    "plt.figure(figsize=(12, 6))\n",
    "for country in [selected_country] + neighboring_countries:\n",
    "    country_data = merged_data[merged_data['Country/Region'] == country]\n",
    "    plt.plot(country_data['Infection Rate'], country_data['Confirmed Cases'], label=country)\n",
    "\n",
    "plt.title('Weekly Infection Trends: Selected Country and Neighbors')\n",
    "plt.xlabel('Infection Rate')\n",
    "plt.ylabel('Confirmed Cases')\n",
    "plt.legend()\n",
    "plt.grid(True)\n",
    "plt.show()"
   ]
  },
  {
   "cell_type": "markdown",
   "metadata": {},
   "source": [
    "### Create the Graph\n",
    "Use the NetworkX library to create a graph where nodes represent countries and edges represent relationships based on infection trends."
   ]
  },
  {
   "cell_type": "code",
   "execution_count": null,
   "metadata": {},
   "outputs": [],
   "source": [
    "import networkx as nx\n",
    "import numpy as np  # Make sure numpy is imported\n",
    "import matplotlib.pyplot as plt\n",
    "\n",
    "G = nx.Graph()\n",
    "\n",
    "# Add nodes and positions\n",
    "G.add_node(selected_country, pos=(0, 0))  # Center node\n",
    "\n",
    "for i, neighbor in enumerate(neighboring_countries):\n",
    "    angle = 2 * np.pi * i / len(neighboring_countries)  # Arrange neighbors in a circular layout\n",
    "    G.add_node(neighbor, pos=(np.cos(angle), np.sin(angle)))\n",
    "    G.add_edge(selected_country, neighbor, weight=0.5 * (i + 1))  # Assign edge weights\n",
    "\n",
    "# Get positions\n",
    "pos = nx.get_node_attributes(G, 'pos')\n",
    "\n",
    "# Draw the graph\n",
    "plt.figure(figsize=(10, 8))\n",
    "nx.draw(\n",
    "    G,\n",
    "    pos,\n",
    "    with_labels=True,\n",
    "    node_color='lightblue',\n",
    "    node_size=2000,\n",
    "    font_size=10,\n",
    "    font_weight='bold',\n",
    "    width=[G[u][v]['weight'] * 2 for u, v in G.edges()]\n",
    ")\n",
    "plt.title(\"COVID-19 Infection Network Analysis\")\n",
    "plt.show()"
   ]
  },
  {
   "cell_type": "markdown",
   "metadata": {},
   "source": [
    "## 4. Visualisation"
   ]
  },
  {
   "cell_type": "markdown",
   "metadata": {},
   "source": [
    "### Linear Regression Analysis Visualization\n",
    "Show the trend of COVID-19 infection rates over weeks for the top three countries."
   ]
  },
  {
   "cell_type": "code",
   "execution_count": null,
   "metadata": {},
   "outputs": [],
   "source": [
    "import matplotlib.pyplot as plt\n",
    "\n",
    "plt.figure(figsize=(10, 6))\n",
    "for country in top_countries:\n",
    "    country_data = df_grouped[df_grouped['Country/Region'] == country]\n",
    "    model, metrics, country_data = fit_linear_regression(country, df_grouped)\n",
    "\n",
    "    plt.scatter(country_data['Week'], country_data['Confirmed Cases'], label=f\"{country} Data\", alpha=0.7)\n",
    "    plt.plot(country_data['Week'], model.predict(country_data['Week'].values.reshape(-1, 1)), \n",
    "             label=f\"{country} Trend (R²={metrics['r2']:.2f})\")\n",
    "\n",
    "plt.title('Linear Regression Analysis of COVID-19 Infection Rates')\n",
    "plt.xlabel('Week Number')\n",
    "plt.ylabel('Confirmed Cases')\n",
    "plt.legend()\n",
    "plt.grid()\n",
    "plt.show()\n"
   ]
  },
  {
   "cell_type": "markdown",
   "metadata": {},
   "source": [
    "### Clustering Analysis Visualization"
   ]
  },
  {
   "cell_type": "code",
   "execution_count": null,
   "metadata": {},
   "outputs": [],
   "source": [
    "plt.figure(figsize=(10, 6))\n",
    "for cluster in range(optimal_k):\n",
    "    cluster_points = clustering_data[clustering_data['Cluster'] == cluster]\n",
    "    plt.scatter(cluster_points['Infection Rate'], cluster_points['Confirmed Cases'], label=f\"Cluster {cluster}\", alpha=0.6)\n",
    "\n",
    "plt.scatter(cluster_centers[:, 0], cluster_centers[:, 1], color='red', marker='x', s=200, label='Cluster Centers')\n",
    "plt.title(f'K-Means Clustering for {selected_country}')\n",
    "plt.xlabel('Confirmed Cases (Standardized)')\n",
    "plt.ylabel('Infection Rate (Standardized)')\n",
    "plt.legend()\n",
    "plt.grid()\n",
    "plt.show()\n"
   ]
  },
  {
   "cell_type": "markdown",
   "metadata": {},
   "source": [
    "### Graph Analytics Visualization\n",
    "Show relationships between the selected country and its neighbors based on weekly infection counts.\n"
   ]
  },
  {
   "cell_type": "code",
   "execution_count": null,
   "metadata": {},
   "outputs": [],
   "source": [
    "import networkx as nx\n",
    "\n",
    "plt.figure(figsize=(10, 8))\n",
    "pos = nx.get_node_attributes(G, 'pos')\n",
    "nx.draw(G, pos,\n",
    "        with_labels=True,\n",
    "        node_color='lightblue',\n",
    "        node_size=2000,\n",
    "        font_size=10,\n",
    "        font_weight='bold',\n",
    "        width=[G[u][v]['weight'] * 2 for u, v in G.edges()])\n",
    "\n",
    "plt.title(f\"COVID-19 Infection Network Analysis for {selected_country}\")\n",
    "plt.show()\n"
   ]
  }
 ],
 "metadata": {
  "kernelspec": {
   "display_name": "base",
   "language": "python",
   "name": "python3"
  },
  "language_info": {
   "codemirror_mode": {
    "name": "ipython",
    "version": 3
   },
   "file_extension": ".py",
   "mimetype": "text/x-python",
   "name": "python",
   "nbconvert_exporter": "python",
   "pygments_lexer": "ipython3",
   "version": "3.11.7"
  }
 },
 "nbformat": 4,
 "nbformat_minor": 2
}
