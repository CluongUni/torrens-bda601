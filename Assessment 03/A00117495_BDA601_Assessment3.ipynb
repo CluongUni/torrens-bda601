{
 "cells": [
  {
   "cell_type": "markdown",
   "metadata": {},
   "source": [
    "# 1.Predictive Modelling "
   ]
  },
  {
   "cell_type": "markdown",
   "metadata": {},
   "source": [
    "### Load & Prepare the Data"
   ]
  },
  {
   "cell_type": "code",
   "execution_count": 27,
   "metadata": {},
   "outputs": [
    {
     "name": "stderr",
     "output_type": "stream",
     "text": [
      "C:\\Users\\chaul\\AppData\\Local\\Temp\\ipykernel_18800\\348281523.py:14: UserWarning: Could not infer format, so each element will be parsed individually, falling back to `dateutil`. To ensure parsing is consistent and as-expected, please specify a format.\n",
      "  df_melted['Date'] = pd.to_datetime(df_melted['Date'])\n"
     ]
    }
   ],
   "source": [
    "import pandas as pd\n",
    "from sklearn.linear_model import LinearRegression\n",
    "from sklearn.metrics import r2_score\n",
    "import matplotlib.pyplot as plt\n",
    "\n",
    "# Load data\n",
    "df = pd.read_csv('BDA601_Assessment 3_time_series_covid19_confirmed_global.csv')\n",
    "\n",
    "# Melt the dataframe to convert dates from columns to rows\n",
    "id_vars = ['Province/State', 'Country/Region', 'Lat', 'Long']\n",
    "df_melted = df.melt(id_vars=id_vars, var_name='Date', value_name='Confirmed')\n",
    "\n",
    "# Convert dates to datetime format\n",
    "df_melted['Date'] = pd.to_datetime(df_melted['Date'])\n",
    "\n",
    "# Group by country and date to aggregate counts at the country level\n",
    "df_grouped = df_melted.groupby(['Country/Region', 'Date'])['Confirmed'].sum().reset_index()\n",
    "\n",
    "# Assign week numbers\n",
    "start_date = df_grouped['Date'].min()\n",
    "df_grouped['Week'] = ((df_grouped['Date'] - start_date).dt.days // 7) + 1\n"
   ]
  },
  {
   "cell_type": "markdown",
   "metadata": {},
   "source": [
    "### Select top 3 countries"
   ]
  },
  {
   "cell_type": "code",
   "execution_count": null,
   "metadata": {},
   "outputs": [],
   "source": [
    "# Get the latest date in the dataset\n",
    "latest_date = df_grouped['Date'].max()\n",
    "\n",
    "# Get top 3 countries with the highest infection counts on the latest date\n",
    "top_countries = df_grouped[df_grouped['Date'] == latest_date].nlargest(3, 'Confirmed')['Country/Region'].tolist()\n",
    "print(\"Top 3 countries:\", top_countries)\n"
   ]
  },
  {
   "cell_type": "markdown",
   "metadata": {},
   "source": [
    "### Fit Linear Regression Models"
   ]
  },
  {
   "cell_type": "code",
   "execution_count": null,
   "metadata": {},
   "outputs": [],
   "source": [
    "from sklearn.model_selection import train_test_split\n",
    "\n",
    "# Function to fit linear regression and calculate variance (R²)\n",
    "def fit_linear_regression(country, data):\n",
    "    # Filter data for the given country\n",
    "    country_data = data[data['Country/Region'] == country]\n",
    "    \n",
    "    # Prepare features (Week) and target (Confirmed Cases)\n",
    "    X = country_data['Week'].values.reshape(-1, 1)\n",
    "    y = country_data['Confirmed'].values\n",
    "    \n",
    "    # Fit linear regression model\n",
    "    model = LinearRegression()\n",
    "    model.fit(X, y)\n",
    "    \n",
    "    # Predict and calculate variance explained (R²)\n",
    "    y_pred = model.predict(X)\n",
    "    r2 = r2_score(y, y_pred)\n",
    "    \n",
    "    return model, r2, country_data\n",
    "\n",
    "# Fit models for the top 3 countries\n",
    "models = {}\n",
    "for country in top_countries:\n",
    "    model, r2, country_data = fit_linear_regression(country, df_grouped)\n",
    "    models[country] = {\n",
    "        'model': model,\n",
    "        'r2': r2,\n",
    "        'data': country_data\n",
    "    }\n",
    "    print(f\"{country}: R² = {r2:.4f}\")\n"
   ]
  },
  {
   "cell_type": "markdown",
   "metadata": {},
   "source": [
    "### Select the Country with the Highest Variance"
   ]
  },
  {
   "cell_type": "code",
   "execution_count": 23,
   "metadata": {},
   "outputs": [
    {
     "name": "stdout",
     "output_type": "stream",
     "text": [
      "Selected Country: US, Highest R² = 0.8939\n"
     ]
    }
   ],
   "source": [
    "# Find the country with the highest R²\n",
    "selected_country = max(models, key=lambda x: models[x]['r2'])\n",
    "selected_model = models[selected_country]['model']\n",
    "selected_data = models[selected_country]['data']\n",
    "\n",
    "print(f\"Selected Country: {selected_country}, Highest R² = {models[selected_country]['r2']:.4f}\")\n"
   ]
  },
  {
   "cell_type": "code",
   "execution_count": null,
   "metadata": {},
   "outputs": [],
   "source": [
    "from sklearn.preprocessing import StandardScaler\n",
    "\n",
    "# Prepare data for the selected country\n",
    "clustering_data = selected_data.copy()\n",
    "\n",
    "# Standardize features (Week, Confirmed Cases)\n",
    "scaler = StandardScaler()\n",
    "clustering_data[['Week', 'Confirmed']] = scaler.fit_transform(clustering_data[['Week', 'Confirmed']])\n"
   ]
  },
  {
   "cell_type": "code",
   "execution_count": null,
   "metadata": {},
   "outputs": [],
   "source": [
    "from sklearn.cluster import KMeans\n",
    "import matplotlib.pyplot as plt\n",
    "\n",
    "# Elbow Method to find the optimal K\n",
    "inertia = []\n",
    "K_range = range(1, 11)\n",
    "\n",
    "for k in K_range:\n",
    "    kmeans = KMeans(n_clusters=k, random_state=42)\n",
    "    kmeans.fit(clustering_data[['Week', 'Confirmed']])\n",
    "    inertia.append(kmeans.inertia_)\n",
    "\n",
    "# Plot the Elbow Curve\n",
    "plt.figure(figsize=(8, 5))\n",
    "plt.plot(K_range, inertia, marker='o')\n",
    "plt.title('Elbow Method for Optimal K')\n",
    "plt.xlabel('Number of Clusters (K)')\n",
    "plt.ylabel('Inertia')\n",
    "plt.grid(True)\n",
    "plt.show()\n"
   ]
  },
  {
   "cell_type": "code",
   "execution_count": null,
   "metadata": {},
   "outputs": [],
   "source": [
    "# Optimal K (determine this from the Elbow Method)\n",
    "optimal_k = 3  # Replace with the chosen K\n",
    "\n",
    "# Fit K-Means clustering\n",
    "kmeans = KMeans(n_clusters=optimal_k, random_state=42)\n",
    "clustering_data['Cluster'] = kmeans.fit_predict(clustering_data[['Week', 'Confirmed']])\n",
    "\n",
    "# Add cluster centers for visualization\n",
    "cluster_centers = scaler.inverse_transform(kmeans.cluster_centers_)\n"
   ]
  },
  {
   "cell_type": "code",
   "execution_count": null,
   "metadata": {},
   "outputs": [
    {
     "data": {
      "image/png": "[encoded data removed]",
      "text/plain": [
       "<Figure size 1000x600 with 1 Axes>"
      ]
     },
     "metadata": {},
     "output_type": "display_data"
    }
   ],
   "source": [
    "# Plot the clusters\n",
    "plt.figure(figsize=(10, 6))\n",
    "for cluster in range(optimal_k):\n",
    "    cluster_points = clustering_data[clustering_data['Cluster'] == cluster]\n",
    "    plt.scatter(cluster_points['Week'], cluster_points['Confirmed'], label=f'Cluster {cluster}')\n",
    "\n",
    "# Plot cluster centers\n",
    "plt.scatter(cluster_centers[:, 0], cluster_centers[:, 1], color='red', marker='x', s=200, label='Cluster Centers')\n",
    "\n",
    "plt.title(f'K-Means Clustering for {selected_country}')\n",
    "plt.xlabel('Week (Standardized)')\n",
    "plt.ylabel('Confirmed Cases (Standardized)')\n",
    "plt.legend()\n",
    "plt.grid(True)\n",
    "plt.show()\n"
   ]
  }
 ],
 "metadata": {
  "kernelspec": {
   "display_name": "base",
   "language": "python",
   "name": "python3"
  },
  "language_info": {
   "codemirror_mode": {
    "name": "ipython",
    "version": 3
   },
   "file_extension": ".py",
   "mimetype": "text/x-python",
   "name": "python",
   "nbconvert_exporter": "python",
   "pygments_lexer": "ipython3",
   "version": "3.11.7"
  }
 },
 "nbformat": 4,
 "nbformat_minor": 2
}
